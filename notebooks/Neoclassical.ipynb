{
 "cells": [
  {
   "cell_type": "markdown",
   "metadata": {},
   "source": [
    "# Solving neoclassical model with time iteration"
   ]
  },
  {
   "cell_type": "code",
   "execution_count": null,
   "metadata": {},
   "outputs": [],
   "source": [
    "using NoLib\n",
    "\n",
    "using StaticArrays\n",
    "using LabelledArrays\n",
    "using NoLib: SGrid, CGrid, PGrid, GArray\n",
    "import NoLib: transition, arbitrage\n",
    "import NoLib: ×\n"
   ]
  },
  {
   "cell_type": "markdown",
   "metadata": {},
   "source": [
    "## Define Model\n"
   ]
  },
  {
   "cell_type": "code",
   "execution_count": null,
   "metadata": {},
   "outputs": [],
   "source": [
    "\n",
    "\n",
    "model = let \n",
    "\n",
    "    α = 0.3\n",
    "    β = 0.96\n",
    "    γ = 2.0\n",
    "    δ = 0.1\n",
    "\n",
    "    k = ((1/β - (1-δ))/α)^(1/(α-1))\n",
    "    i = δ*k\n",
    "    z = 0.0\n",
    "\n",
    "    p = (;α, β, γ, δ)\n",
    "    \n",
    "    m = SLVector( (; z))\n",
    "    s = SLVector( (; k))\n",
    "    x = SLVector( (; i))\n",
    "\n",
    "    P = @SMatrix [0.9 0.1; 0.1 0.9]\n",
    "    # Q = @SMatrix [-0.05; 0.05]\n",
    "    Q = @SMatrix [-0.1; 0.1]\n",
    "\n",
    "    exo = SGrid( [Q[i,:] for i=1:size(Q,1)] )\n",
    "    endo = CGrid( ((0.1, 5.0, 100),) )\n",
    "    grid = exo × endo\n",
    "\n",
    "\n",
    "    (;m, s, x, p, P, Q, exo, endo, grid)\n",
    "\n",
    "end\n",
    "\n"
   ]
  },
  {
   "cell_type": "code",
   "execution_count": null,
   "metadata": {},
   "outputs": [],
   "source": [
    "\n",
    "function transition(model::typeof(model), m::SLArray, s::SLArray, x::SLArray, M::SLArray, p)\n",
    "    K = s.k*(1-p.δ) + x.i\n",
    "    return SLVector( (;K) )\n",
    "end\n",
    "\n",
    "function arbitrage(model::typeof(model), m::SLArray, s::SLArray, x::SLArray, M::SLArray, S::SLArray, X::SLArray, p)\n",
    "    c = exp(m.z)*s.k^p.α - x.i\n",
    "    C = exp(M.z)*S.k^p.α - X.i\n",
    "    r = p.β*(C/c)^(-p.γ)*(1-p.δ + p.α*exp(M.z)*S.k^(p.α-1)) - 1\n",
    "    return SLVector( (;r) )\n",
    "end"
   ]
  },
  {
   "cell_type": "markdown",
   "metadata": {},
   "source": [
    "## Solving the model using NoLib\n"
   ]
  },
  {
   "cell_type": "code",
   "execution_count": null,
   "metadata": {},
   "outputs": [],
   "source": [
    "res = NoLib.time_iteration(model;improve=false)\n"
   ]
  },
  {
   "cell_type": "markdown",
   "metadata": {},
   "source": [
    "### Plot decision rule"
   ]
  },
  {
   "cell_type": "code",
   "execution_count": null,
   "metadata": {},
   "outputs": [],
   "source": [
    "φ = res.solution\n",
    "\n",
    "using Plots\n",
    "using NoLib: iti\n",
    "\n",
    "xvec = [e[1] for e in model.grid[2,:]]\n",
    "yvec = [e[1] for e in φ[2,:]]\n",
    "plot(xvec, yvec)\n",
    "\n",
    "# improve the plot....\n"
   ]
  },
  {
   "cell_type": "markdown",
   "metadata": {},
   "source": [
    "## Rewriting time_iteration\n"
   ]
  },
  {
   "cell_type": "markdown",
   "metadata": {},
   "source": [
    "### Check SGrid, CGrid, PGrid objects\n"
   ]
  },
  {
   "cell_type": "code",
   "execution_count": null,
   "metadata": {},
   "outputs": [],
   "source": [
    "using NoLib: SGrid, CGrid, PGrid, ×"
   ]
  },
  {
   "cell_type": "markdown",
   "metadata": {},
   "source": [
    "### Check GArray object\n"
   ]
  },
  {
   "cell_type": "code",
   "execution_count": null,
   "metadata": {},
   "outputs": [],
   "source": [
    "### GArray objects represent a vector of points, matching the geometry of the grid\n",
    "### Create constant initial guess\n",
    "using Garray\n",
    "x0 = ..."
   ]
  },
  {
   "cell_type": "markdown",
   "metadata": {},
   "source": [
    "### Compare On-grid and off-grid indexing (cf interp.jl)\n",
    "\n",
    "x0[]\n",
    "x0()"
   ]
  },
  {
   "cell_type": "markdown",
   "metadata": {},
   "source": [
    "### Check the transition iterator $\\tau$\n"
   ]
  },
  {
   "cell_type": "code",
   "execution_count": null,
   "metadata": {},
   "outputs": [],
   "source": []
  },
  {
   "cell_type": "markdown",
   "metadata": {},
   "source": [
    "### Write the optimality function `F(model, s, x, x0::GArray)` where s is a grid point, x a controls and  x0 a vector of controls\n"
   ]
  },
  {
   "cell_type": "code",
   "execution_count": null,
   "metadata": {},
   "outputs": [],
   "source": []
  },
  {
   "cell_type": "markdown",
   "metadata": {},
   "source": [
    "### Vectorize the optimality function `F(model, x1, x0)`\n"
   ]
  },
  {
   "cell_type": "code",
   "execution_count": null,
   "metadata": {},
   "outputs": [],
   "source": []
  },
  {
   "cell_type": "markdown",
   "metadata": {},
   "source": [
    "### Given x1, compute the derivative w.r.t. x0. Solve for the optimal x1 given x0.\n"
   ]
  },
  {
   "cell_type": "code",
   "execution_count": null,
   "metadata": {},
   "outputs": [],
   "source": []
  },
  {
   "cell_type": "markdown",
   "metadata": {},
   "source": [
    "### Compute the derivative w.r.t. x1. Make an improvement step.\n"
   ]
  },
  {
   "cell_type": "code",
   "execution_count": null,
   "metadata": {},
   "outputs": [],
   "source": []
  },
  {
   "cell_type": "markdown",
   "metadata": {},
   "source": [
    "### Write a time iteration method with an improvement option.\n"
   ]
  },
  {
   "cell_type": "markdown",
   "metadata": {},
   "source": []
  }
 ],
 "metadata": {
  "kernelspec": {
   "display_name": "Julia 1.8.0",
   "language": "julia",
   "name": "julia-1.8"
  },
  "language_info": {
   "file_extension": ".jl",
   "mimetype": "application/julia",
   "name": "julia",
   "version": "1.8.0"
  },
  "orig_nbformat": 4
 },
 "nbformat": 4,
 "nbformat_minor": 2
}
